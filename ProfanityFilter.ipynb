{
  "nbformat": 4,
  "nbformat_minor": 0,
  "metadata": {
    "colab": {
      "provenance": []
    },
    "kernelspec": {
      "name": "python3",
      "display_name": "Python 3"
    },
    "language_info": {
      "name": "python"
    }
  },
  "cells": [
    {
      "cell_type": "code",
      "source": [
        "import pandas as pd\n",
        "from sklearn.model_selection import train_test_split\n",
        "from sklearn.feature_extraction.text import TfidfVectorizer\n",
        "from sklearn.linear_model import LogisticRegression\n",
        "from sklearn.metrics import classification_report\n",
        "from better_profanity import profanity\n",
        "\n",
        "# Load your dataset\n",
        "data = pd.read_excel('/content/profanity_dataset.xlsx')\n",
        "\n",
        "# Prepare the data for model training\n",
        "vectorizer = TfidfVectorizer(max_features=1000)  # Adjust max_features as needed\n",
        "X = vectorizer.fit_transform(data['Text'])\n",
        "y = data['Label']  # Assuming 'label' column contains the class labels\n",
        "\n",
        "# Split the data into training and testing sets\n",
        "X_train, X_test, y_train, y_test = train_test_split(X, y, test_size=0.2, random_state=42)\n",
        "\n",
        "# Train the logistic regression model\n",
        "model = LogisticRegression()\n",
        "model.fit(X_train, y_train)\n",
        "\n",
        "# Evaluate the model\n",
        "y_pred = model.predict(X_test)\n",
        "print(classification_report(y_test, y_pred))\n",
        "\n",
        "# Function to censor profane words in text\n",
        "def censor_text(text):\n",
        "    profanity.load_censor_words()\n",
        "    return profanity.censor(text)\n",
        "\n",
        "# Input and prediction\n",
        "new_comment = input(\"Enter your comment: \")\n",
        "\n",
        "# Check and censor profanity\n",
        "censored_comment = censor_text(new_comment)\n",
        "\n",
        "# Predict the class of the (possibly censored) comment\n",
        "new_comment_features = vectorizer.transform([censored_comment])\n",
        "prediction = model.predict(new_comment_features)\n",
        "\n",
        "print(\"Censored comment:\", censored_comment)\n",
        "print(\"Predicted class:\", prediction)\n"
      ],
      "metadata": {
        "colab": {
          "base_uri": "https://localhost:8080/"
        },
        "id": "uOrdCMxJFAfA",
        "outputId": "fab330b6-a3e3-4dc1-c1b3-0ab6d6241bf6"
      },
      "execution_count": 12,
      "outputs": [
        {
          "output_type": "stream",
          "name": "stderr",
          "text": [
            "/usr/local/lib/python3.10/dist-packages/sklearn/linear_model/_logistic.py:460: ConvergenceWarning: lbfgs failed to converge (status=1):\n",
            "STOP: TOTAL NO. of ITERATIONS REACHED LIMIT.\n",
            "\n",
            "Increase the number of iterations (max_iter) or scale the data as shown in:\n",
            "    https://scikit-learn.org/stable/modules/preprocessing.html\n",
            "Please also refer to the documentation for alternative solver options:\n",
            "    https://scikit-learn.org/stable/modules/linear_model.html#logistic-regression\n",
            "  n_iter_i = _check_optimize_result(\n",
            "/usr/local/lib/python3.10/dist-packages/sklearn/metrics/_classification.py:1471: UndefinedMetricWarning: Precision and F-score are ill-defined and being set to 0.0 in labels with no predicted samples. Use `zero_division` parameter to control this behavior.\n",
            "  _warn_prf(average, modifier, msg_start, len(result))\n",
            "/usr/local/lib/python3.10/dist-packages/sklearn/metrics/_classification.py:1471: UndefinedMetricWarning: Precision and F-score are ill-defined and being set to 0.0 in labels with no predicted samples. Use `zero_division` parameter to control this behavior.\n",
            "  _warn_prf(average, modifier, msg_start, len(result))\n",
            "/usr/local/lib/python3.10/dist-packages/sklearn/metrics/_classification.py:1471: UndefinedMetricWarning: Precision and F-score are ill-defined and being set to 0.0 in labels with no predicted samples. Use `zero_division` parameter to control this behavior.\n",
            "  _warn_prf(average, modifier, msg_start, len(result))\n"
          ]
        },
        {
          "output_type": "stream",
          "name": "stdout",
          "text": [
            "                precision    recall  f1-score   support\n",
            "\n",
            "     Bullyiing       0.00      0.00      0.00         1\n",
            "      Bullying       0.73      0.83      0.78       603\n",
            "     Bullying        0.82      0.70      0.76       361\n",
            "    Bullying         0.00      0.00      0.00         1\n",
            " Not -Bullying       0.00      0.00      0.00         2\n",
            " Not Bullying        0.50      0.08      0.14        49\n",
            " Not bullying        0.00      0.00      0.00         3\n",
            "Not- Bullying        0.40      0.07      0.12        57\n",
            " Not-Bulllying       1.00      0.20      0.33         5\n",
            "  Not-Bullying       0.67      0.82      0.74       541\n",
            " Not-Bullying        0.67      0.08      0.15        48\n",
            "   Not-Bulying       0.00      0.00      0.00         7\n",
            "  Not-Bulyying       0.00      0.00      0.00         5\n",
            "\n",
            "      accuracy                           0.72      1683\n",
            "     macro avg       0.37      0.21      0.23      1683\n",
            "  weighted avg       0.70      0.72      0.69      1683\n",
            "\n",
            "Enter your comment: you are a stupid \n",
            "Censored comment: you are a **** \n",
            "Predicted class: ['Bullying']\n"
          ]
        }
      ]
    }
  ]
}